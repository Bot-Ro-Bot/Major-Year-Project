{
 "cells": [
  {
   "cell_type": "code",
   "execution_count": 1,
   "metadata": {},
   "outputs": [],
   "source": [
    "import numpy as np\n",
    "\n",
    "import matplotlib.pyplot as plt\n",
    "import os\n",
    "# import glob\n",
    "import pickle\n",
    "import tqdm\n",
    "import warnings\n",
    "warnings.filterwarnings(\"ignore\")\n",
    "\n",
    "%matplotlib inline\n",
    "import matplotlib as mlp\n",
    "import matplotlib.pyplot as plt\n",
    "mlp.rc(\"xtick\",labelsize=12)\n",
    "mlp.rc(\"ytick\",labelsize=12)\n",
    "mlp.rc(\"axes\",labelsize=14)\n",
    "\n",
    "plt.rcParams['figure.figsize'] = [10,5]\n",
    "plt.rcParams['figure.dpi'] = 200\n",
    "\n",
    "from sklearn.preprocessing import LabelEncoder\n",
    "from sklearn.preprocessing import StandardScaler\n",
    "\n",
    "from sklearn.model_selection import StratifiedShuffleSplit\n",
    "from sklearn.model_selection import StratifiedKFold\n",
    "from sklearn.model_selection import GridSearchCV\n",
    "from sklearn.model_selection import RandomizedSearchCV\n",
    "\n",
    "from sklearn.decomposition import FastICA\n",
    "\n",
    "\n",
    "from sklearn.metrics import confusion_matrix\n",
    "from sklearn.metrics import classification_report\n",
    "from sklearn.metrics import accuracy_score\n",
    "from sklearn.model_selection import cross_val_score\n",
    "from sklearn.model_selection import cross_val_predict\n",
    "from sklearn.metrics import roc_auc_score\n",
    "\n",
    "from sklearn.model_selection import StratifiedKFold\n",
    "from keras.wrappers.scikit_learn import KerasClassifier\n",
    "from sklearn.model_selection import GridSearchCV\n",
    "\n",
    "import tensorflow as tf\n",
    "from tensorflow import keras\n",
    "\n",
    "CURR_DIR = os.getcwd()"
   ]
  },
  {
   "cell_type": "code",
   "execution_count": 2,
   "metadata": {},
   "outputs": [],
   "source": [
    "\n",
    "# MAIN_DIR = os.path.join(CURR_DIR,\"..\",\"..\")\n",
    "MAIN_DIR = CURR_DIR\n",
    "DATA_DIR = os.path.join(MAIN_DIR,\"dataset\")\n",
    "FILE_DIR = os.path.join(MAIN_DIR,\"dataset\",\"pickle\")\n",
    "FIG_DIR = os.path.join(MAIN_DIR,\"figures\")\n",
    "os.makedirs(FIG_DIR,exist_ok=True)\n",
    "\n",
    "SPEAKER = [\"RL\",\"RN\",\"SR\",\"US\"]\n",
    "MODE = [\"mentally\",\"mouthed\"]\n",
    "WORDS = LABELS = [\"add\",\"call\",\"go\",\"later\",\"left\",\"reply\",\"right\",\"stop\",\"subtract\",\"you\"]\n",
    "\n",
    "SAMPLING_FREQ = 250 \n",
    "NUM_CHANNELS = 8\n",
    "\n",
    "\n",
    "# a function to save plotted figures\n",
    "def save_fig(fig_id, tight_layout=True, fig_extension=\"png\", resolution=300):\n",
    "    path = os.path.join(FIG_DIR, fig_id + \".\" + fig_extension)\n",
    "    print(\"Saving figure\", fig_id)\n",
    "    if tight_layout:\n",
    "        plt.tight_layout()\n",
    "    plt.savefig(path, format=fig_extension, dpi=resolution)\n"
   ]
  },
  {
   "cell_type": "markdown",
   "metadata": {},
   "source": [
    "###  LOAD DATA"
   ]
  },
  {
   "cell_type": "code",
   "execution_count": 3,
   "metadata": {
    "scrolled": true
   },
   "outputs": [
    {
     "name": "stdout",
     "output_type": "stream",
     "text": [
      "['ALL_feature_spectral_me.pickle', 'ALL_feature_spectral_mo.pickle', 'ALL_feature_time_me.pickle', 'ALL_feature_time_mo.pickle', 'ALL_feature_time_spectral_me.pickle', 'ALL_feature_time_spectral_mo.pickle', 'RL_feature_spectral_me.pickle', 'RL_feature_spectral_mo.pickle', 'RL_feature_time_me.pickle', 'RL_feature_time_mo.pickle', 'RL_feature_time_spectral_me.pickle', 'RL_feature_time_spectral_mo.pickle', 'RN_feature_spectral_me.pickle', 'RN_feature_spectral_mo.pickle', 'RN_feature_time_me.pickle', 'RN_feature_time_mo.pickle', 'RN_feature_time_spectral_me.pickle', 'RN_feature_time_spectral_mo.pickle', 'SR_feature_spectral_me.pickle', 'SR_feature_spectral_mo.pickle', 'SR_feature_time_me.pickle', 'SR_feature_time_mo.pickle', 'SR_feature_time_spectral_me.pickle', 'SR_feature_time_spectral_mo.pickle', 'US_feature_spectral_me.pickle', 'US_feature_spectral_mo.pickle', 'US_feature_time_me.pickle', 'US_feature_time_mo.pickle', 'US_feature_time_spectral_me.pickle', 'US_feature_time_spectral_mo.pickle']\n",
      "***********************\n",
      "US_feature_time_spectral_me.pickle\n"
     ]
    }
   ],
   "source": [
    "DATASET = os.listdir(FILE_DIR)\n",
    "DATASET.sort()\n",
    "print(DATASET)\n",
    "print(\"***********************\")\n",
    "print(DATASET[-2])"
   ]
  },
  {
   "cell_type": "code",
   "execution_count": 4,
   "metadata": {},
   "outputs": [],
   "source": [
    "\n",
    "# feature_spectral_mental = pickle.load(open(os.path.join(FILE_DIR,DATASET[0]),\"rb\"))\n",
    "# feature_spectral_mouthed = pickle.load(open(os.path.join(FILE_DIR,DATASET[1]),\"rb\"))\n",
    "# feature_time_mental = pickle.load(open(os.path.join(FILE_DIR,DATASET[2]),\"rb\"))\n",
    "# feature_time_mouthed = pickle.load(open(os.path.join(FILE_DIR,DATASET[3]),\"rb\"))\n",
    "feature_time_spectral_mental = pickle.load(open(os.path.join(FILE_DIR,DATASET[-2]),\"rb\"))\n",
    "# feature_time_spectral_mouthed = pickle.load(open(os.path.join(FILE_DIR,DATASET[-1]),\"rb\"))"
   ]
  },
  {
   "cell_type": "code",
   "execution_count": 6,
   "metadata": {},
   "outputs": [
    {
     "name": "stdout",
     "output_type": "stream",
     "text": [
      "(1783, 1262, 112)\n",
      "(1783,)\n"
     ]
    }
   ],
   "source": [
    "# X = feature_time_spectral_mouthed[\"data\"]\n",
    "# Y = feature_time_spectral_mouthed[\"label\"]\n",
    "X = feature_time_spectral_mental[\"data\"]\n",
    "Y = feature_time_spectral_mental[\"label\"]\n",
    "\n",
    "print(X.shape)\n",
    "print(Y.shape)\n"
   ]
  },
  {
   "cell_type": "markdown",
   "metadata": {},
   "source": [
    "### LOAD MODEL"
   ]
  },
  {
   "cell_type": "code",
   "execution_count": 7,
   "metadata": {},
   "outputs": [],
   "source": [
    "# from keras.models import load_model\n",
    "# model = tf.keras.models.load_model(\"all_features_all_speakers_mouthed_model_cnn_e15.h5\")\n",
    "\n",
    "model = tf.keras.models.load_model(\"all_features_all_speakers_mental_model_cnn_e15.h5\")"
   ]
  },
  {
   "cell_type": "code",
   "execution_count": 8,
   "metadata": {},
   "outputs": [
    {
     "data": {
      "text/plain": [
       "<tf.Tensor 'conv1d_input:0' shape=(None, 885, 112) dtype=float32>"
      ]
     },
     "execution_count": 8,
     "metadata": {},
     "output_type": "execute_result"
    }
   ],
   "source": [
    "model.input"
   ]
  },
  {
   "cell_type": "code",
   "execution_count": 9,
   "metadata": {},
   "outputs": [
    {
     "name": "stdout",
     "output_type": "stream",
     "text": [
      "Model: \"sequential\"\n",
      "_________________________________________________________________\n",
      "Layer (type)                 Output Shape              Param #   \n",
      "=================================================================\n",
      "conv1d (Conv1D)              (None, 874, 100)          134500    \n",
      "_________________________________________________________________\n",
      "max_pooling1d (MaxPooling1D) (None, 437, 100)          0         \n",
      "_________________________________________________________________\n",
      "conv1d_1 (Conv1D)            (None, 432, 100)          60100     \n",
      "_________________________________________________________________\n",
      "max_pooling1d_1 (MaxPooling1 (None, 216, 100)          0         \n",
      "_________________________________________________________________\n",
      "flatten (Flatten)            (None, 21600)             0         \n",
      "_________________________________________________________________\n",
      "dense (Dense)                (None, 100)               2160100   \n",
      "_________________________________________________________________\n",
      "dense_1 (Dense)              (None, 10)                1010      \n",
      "=================================================================\n",
      "Total params: 2,355,710\n",
      "Trainable params: 2,355,710\n",
      "Non-trainable params: 0\n",
      "_________________________________________________________________\n"
     ]
    }
   ],
   "source": [
    "model.summary()"
   ]
  },
  {
   "cell_type": "markdown",
   "metadata": {},
   "source": [
    "### PREPARE DATA"
   ]
  },
  {
   "cell_type": "code",
   "execution_count": 10,
   "metadata": {},
   "outputs": [],
   "source": [
    "scalar = StandardScaler()\n",
    "X = (scalar.fit_transform(X.reshape(X.shape[0],-1),Y)).reshape(X.shape[0],X.shape[1],-1)\n"
   ]
  },
  {
   "cell_type": "code",
   "execution_count": 11,
   "metadata": {},
   "outputs": [
    {
     "name": "stdout",
     "output_type": "stream",
     "text": [
      "['add' 'call' 'go' 'later' 'left' 'reply' 'right' 'stop' 'subtract' 'you']\n",
      "Encoded labels (normal): \n",
      " [1 1 1 1 1]\n"
     ]
    }
   ],
   "source": [
    "encoder = LabelEncoder()\n",
    "\n",
    "Y = encoder.fit_transform(Y)\n",
    "print(encoder.classes_)\n",
    "print(\"Encoded labels (normal): \\n\",Y[0:5])"
   ]
  },
  {
   "cell_type": "code",
   "execution_count": 12,
   "metadata": {},
   "outputs": [
    {
     "name": "stdout",
     "output_type": "stream",
     "text": [
      "(1783, 1262, 112)\n",
      "(1783,)\n"
     ]
    }
   ],
   "source": [
    "print(X.shape)\n",
    "print(Y.shape)"
   ]
  },
  {
   "cell_type": "markdown",
   "metadata": {},
   "source": [
    "### PADDING AND TRIMMING DATA"
   ]
  },
  {
   "cell_type": "code",
   "execution_count": null,
   "metadata": {},
   "outputs": [],
   "source": [
    "# a = np.floor(int((int(X.shape[1])-885)/2))\n",
    "# b = np.ceil(int((int(X.shape[1])-885)/2))"
   ]
  },
  {
   "cell_type": "code",
   "execution_count": null,
   "metadata": {},
   "outputs": [],
   "source": [
    "# print(a)\n",
    "# print(b)\n",
    "len(X[1])"
   ]
  },
  {
   "cell_type": "code",
   "execution_count": 13,
   "metadata": {},
   "outputs": [
    {
     "name": "stdout",
     "output_type": "stream",
     "text": [
      "(1783, 885, 112)\n"
     ]
    }
   ],
   "source": [
    "# a =188 #17\n",
    "# b = 189 #18\n",
    "a =188\n",
    "b = 189\n",
    "temp = []\n",
    "for i in range(len(X)):\n",
    "    temp.append(X[i][a:-b,:])\n",
    "X = np.array(temp)\n",
    "print(X.shape)"
   ]
  },
  {
   "cell_type": "code",
   "execution_count": 14,
   "metadata": {},
   "outputs": [
    {
     "name": "stdout",
     "output_type": "stream",
     "text": [
      "56/56 [==============================] - 5s 81ms/step - loss: 7.0349 - accuracy: 0.0426\n"
     ]
    },
    {
     "data": {
      "text/plain": [
       "[7.034923553466797, 0.04262479022145271]"
      ]
     },
     "execution_count": 14,
     "metadata": {},
     "output_type": "execute_result"
    }
   ],
   "source": [
    "model.evaluate(X,Y)"
   ]
  },
  {
   "cell_type": "code",
   "execution_count": null,
   "metadata": {},
   "outputs": [],
   "source": [
    "model.evaluate(X,Y)"
   ]
  },
  {
   "cell_type": "code",
   "execution_count": null,
   "metadata": {},
   "outputs": [],
   "source": [
    "predictions = np.argmax(model.predict(X))"
   ]
  },
  {
   "cell_type": "code",
   "execution_count": null,
   "metadata": {},
   "outputs": [],
   "source": [
    "print(predictions[0])"
   ]
  },
  {
   "cell_type": "code",
   "execution_count": null,
   "metadata": {},
   "outputs": [],
   "source": []
  }
 ],
 "metadata": {
  "kernelspec": {
   "display_name": "Python 3",
   "language": "python",
   "name": "python3"
  },
  "language_info": {
   "codemirror_mode": {
    "name": "ipython",
    "version": 3
   },
   "file_extension": ".py",
   "mimetype": "text/x-python",
   "name": "python",
   "nbconvert_exporter": "python",
   "pygments_lexer": "ipython3",
   "version": "3.6.9"
  }
 },
 "nbformat": 4,
 "nbformat_minor": 4
}
